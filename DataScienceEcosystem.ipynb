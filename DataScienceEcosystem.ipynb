{
 "cells": [
  {
   "cell_type": "markdown",
   "id": "ddec4564-6eee-4efd-b7e9-337278aa3648",
   "metadata": {},
   "source": [
    "# Data Science Tools and Ecosystem"
   ]
  },
  {
   "cell_type": "markdown",
   "id": "b2e0b9d6-2581-48e6-b5d4-4f6ae79e723b",
   "metadata": {},
   "source": [
    "## Author\n",
    "## Syed Shees"
   ]
  },
  {
   "cell_type": "markdown",
   "id": "e5acdfc4-6978-4c89-adb6-477a54f3b5de",
   "metadata": {},
   "source": [
    "## In this notebook, Data Science Tools and Ecosystem are summarized."
   ]
  },
  {
   "cell_type": "markdown",
   "id": "8ae909be-7073-4a63-9f20-0f041f43b17d",
   "metadata": {},
   "source": [
    "### objectives:"
   ]
  },
  {
   "cell_type": "markdown",
   "id": "f75af635-112d-4668-a18a-8b760b465524",
   "metadata": {},
   "source": [
    "### List popular languages for Data Science"
   ]
  },
  {
   "cell_type": "markdown",
   "id": "bdf143b6-65cf-49ca-855d-3fa1fa2dd3c2",
   "metadata": {},
   "source": [
    "### Unordered List\n",
    "- R\n",
    "- Java\n",
    "- Python"
   ]
  },
  {
   "cell_type": "markdown",
   "id": "afd0d9f0-1b39-4243-a1dd-8830cea6547a",
   "metadata": {},
   "source": [
    "### Some of the popular languages that Data Scientists use are:"
   ]
  },
  {
   "cell_type": "markdown",
   "id": "697a0864-fef8-4151-a304-08d48d58824c",
   "metadata": {},
   "source": [
    "### Order List"
   ]
  },
  {
   "cell_type": "markdown",
   "id": "c97d53f0-32f1-4260-becd-1d6da4fbf99e",
   "metadata": {
    "tags": []
   },
   "source": [
    "1. Python\n",
    "2. R\n",
    "3. Java"
   ]
  },
  {
   "cell_type": "markdown",
   "id": "31208aa7-7708-40fd-8550-20c24afd668e",
   "metadata": {},
   "source": [
    "### Some of the commonly used libraries used by Data Scientists include:\n",
    "### Order List"
   ]
  },
  {
   "cell_type": "markdown",
   "id": "66aea6e2-e804-4487-ab08-6159f94d6239",
   "metadata": {},
   "source": [
    "1. NumPy\n",
    "2. SciPy\n",
    "3. Pandas\n"
   ]
  },
  {
   "cell_type": "markdown",
   "id": "c7bf0229-9d33-4e1c-b831-894a28858d09",
   "metadata": {},
   "source": [
    "| Data Science Tools |\n",
    "|--------------------|\n",
    "|RStudio|\n",
    "|Apache Spark|\n",
    "|TensorFlow|"
   ]
  },
  {
   "cell_type": "markdown",
   "id": "3c9ff59f-8156-4bef-9f53-5b62c33d3246",
   "metadata": {},
   "source": [
    "### Below are a few examples of evaluating arithmetic expressions in Python"
   ]
  },
  {
   "cell_type": "code",
   "execution_count": 10,
   "id": "66fa70ef-9907-4d90-a43f-e4390fc2d063",
   "metadata": {
    "tags": []
   },
   "outputs": [
    {
     "data": {
      "text/plain": [
       "17"
      ]
     },
     "execution_count": 10,
     "metadata": {},
     "output_type": "execute_result"
    }
   ],
   "source": [
    "(3*4)+5"
   ]
  },
  {
   "cell_type": "markdown",
   "id": "240a8902-37f5-489f-a046-48be955d180e",
   "metadata": {
    "tags": []
   },
   "source": [
    "--- This will convert 200 minutes to hours by diving by 60\n",
    "200 / 60"
   ]
  },
  {
   "cell_type": "markdown",
   "id": "1d97cb19-3386-48f7-953d-c070b49fb50d",
   "metadata": {},
   "source": [
    "This will convert 200 minutes to hours by diving by 60"
   ]
  },
  {
   "cell_type": "code",
   "execution_count": 12,
   "id": "a71c7029-884c-410a-bf39-b10aebe24934",
   "metadata": {
    "tags": []
   },
   "outputs": [
    {
     "data": {
      "text/plain": [
       "3.3333333333333335"
      ]
     },
     "execution_count": 12,
     "metadata": {},
     "output_type": "execute_result"
    }
   ],
   "source": [
    "200 / 60"
   ]
  },
  {
   "cell_type": "code",
   "execution_count": null,
   "id": "09d7c338-1236-4c01-8406-bd84b4dd1afd",
   "metadata": {},
   "outputs": [],
   "source": []
  }
 ],
 "metadata": {
  "kernelspec": {
   "display_name": "Python",
   "language": "python",
   "name": "conda-env-python-py"
  },
  "language_info": {
   "codemirror_mode": {
    "name": "ipython",
    "version": 3
   },
   "file_extension": ".py",
   "mimetype": "text/x-python",
   "name": "python",
   "nbconvert_exporter": "python",
   "pygments_lexer": "ipython3",
   "version": "3.7.12"
  }
 },
 "nbformat": 4,
 "nbformat_minor": 5
}
